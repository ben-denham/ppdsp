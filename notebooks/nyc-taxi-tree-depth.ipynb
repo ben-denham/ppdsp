{
 "cells": [
  {
   "cell_type": "code",
   "execution_count": null,
   "metadata": {},
   "outputs": [],
   "source": [
    "%%bash\n",
    "lein uberjar"
   ]
  },
  {
   "cell_type": "code",
   "execution_count": null,
   "metadata": {},
   "outputs": [],
   "source": [
    " %classpath add jar ../target/jvm/uberjar/ppdsp-0.1.0-SNAPSHOT-standalone.jar\n",
    "(clojure.lang.Compiler/loadFile \"jupyter_helpers.clj\")\n",
    "(require '[clojure.string :as string]\n",
    "         '[clojure.pprint :refer [pprint print-table]]\n",
    "         '[jupyter-helpers :refer [save-data load-data\n",
    "                                   run-masking-experiments plot-lines]]\n",
    "         '[ppdsp.classifier.moa-classifier :refer [inspectable-adaptive-random-forest]]\n",
    "         '[ppdsp.dataset.base :refer [dataset-feature-count dataset-record-count]]\n",
    "         '[ppdsp.dataset.csv-dataset :refer [read-csv-dataset]]\n",
    "         '[ppdsp.masking.evaluation :refer [flatten-masking-experiment-recoveries\n",
    "                                           unknown-record-relative-position\n",
    "                                           add-combined-result\n",
    "                                           get-cumulative-noise-sigma]]\n",
    "         '[ppdsp.utils :refer [map-vals mean]])"
   ]
  },
  {
   "cell_type": "markdown",
   "metadata": {},
   "source": [
    "## Experiment Configuration"
   ]
  },
  {
   "cell_type": "code",
   "execution_count": null,
   "metadata": {},
   "outputs": [],
   "source": [
    "(def dataset-label \"nyc-taxi-tree-depth\")\n",
    "(def dataset (read-csv-dataset \"datasets/nyc-taxi/nyc-50k.csv\"\n",
    "                                99999999 ;; All records\n",
    "                                ;; Numeric features\n",
    "                                [\"pickup_longitude\" \"pickup_latitude\" \"dropoff_longitude\" \"dropoff_latitude\" \"pickup_day\" \"pickup_hour\" \"dist\"]))"
   ]
  },
  {
   "cell_type": "code",
   "execution_count": null,
   "metadata": {},
   "outputs": [],
   "source": [
    "(def feature-count (dataset-feature-count dataset))\n",
    "(def record-count (dataset-record-count dataset))\n",
    "\n",
    "(def independent-noise-sigmas [0.25])\n",
    "(def cumulative-noise-sigmas (map #(get-cumulative-noise-sigma % record-count) independent-noise-sigmas))\n",
    "\n",
    "(def base-configuration\n",
    "    {:dataset dataset\n",
    "     :projection-feature-counts [feature-count]\n",
    "     :projection-sigmas [1.0]\n",
    "     :translations [0]\n",
    "     :classifier-fns {:arf inspectable-adaptive-random-forest}\n",
    "     :threads-per-configuration 2\n",
    "     :threads-per-evaluation 1\n",
    "     :seed 1\n",
    "     :evaluations [:accuracy]})\n",
    "\n",
    "(def cumulative-noise-configuration\n",
    "    (merge base-configuration\n",
    "           {:output-file (str \"workspace/\" dataset-label \"/cumulative.edn\")\n",
    "            :independent-noise-sigmas [0.0]\n",
    "            :cumulative-noise-sigmas cumulative-noise-sigmas}))\n",
    "\n",
    "(def independent-noise-configuration\n",
    "    (merge base-configuration\n",
    "           {:output-file (str \"workspace/\" dataset-label \"/independent.edn\")\n",
    "            :independent-noise-sigmas independent-noise-sigmas\n",
    "            :cumulative-noise-sigmas [0.0]}))\n",
    "\n",
    "(def rp-only-configuration\n",
    "    (merge base-configuration\n",
    "           {:output-file (str \"workspace/\" dataset-label \"/rp-only.edn\")\n",
    "            :independent-noise-sigmas [0.0]\n",
    "            :cumulative-noise-sigmas [0.0]}))"
   ]
  },
  {
   "cell_type": "markdown",
   "metadata": {},
   "source": [
    "## Run Experiments"
   ]
  },
  {
   "cell_type": "code",
   "execution_count": null,
   "metadata": {},
   "outputs": [],
   "source": [
    "(run-masking-experiments cumulative-noise-configuration)"
   ]
  },
  {
   "cell_type": "code",
   "execution_count": null,
   "metadata": {},
   "outputs": [],
   "source": [
    "(run-masking-experiments independent-noise-configuration)"
   ]
  },
  {
   "cell_type": "code",
   "execution_count": null,
   "metadata": {},
   "outputs": [],
   "source": [
    "(run-masking-experiments rp-only-configuration)"
   ]
  },
  {
   "cell_type": "markdown",
   "metadata": {},
   "source": [
    "## Load and Extend Experiment Results"
   ]
  },
  {
   "cell_type": "code",
   "execution_count": null,
   "metadata": {},
   "outputs": [],
   "source": [
    "(def output-cumulative (load-data (:output-file cumulative-noise-configuration)))\n",
    "(def results-cumulative (:results output-cumulative))"
   ]
  },
  {
   "cell_type": "code",
   "execution_count": null,
   "metadata": {},
   "outputs": [],
   "source": [
    "(def output-independent (load-data (:output-file independent-noise-configuration)))\n",
    "(def results-independent (:results output-independent))"
   ]
  },
  {
   "cell_type": "code",
   "execution_count": null,
   "metadata": {},
   "outputs": [],
   "source": [
    "(def output-rp-only (load-data (:output-file rp-only-configuration)))\n",
    "(def results-rp-only (:results output-rp-only))"
   ]
  },
  {
   "cell_type": "markdown",
   "metadata": {},
   "source": [
    "## ARF Tree Depth Over Time"
   ]
  },
  {
   "cell_type": "code",
   "execution_count": null,
   "metadata": {
    "scrolled": false
   },
   "outputs": [],
   "source": [
    "(def ensemble-size 10)\n",
    "(defn tree-depth-plot\n",
    "    [result ensemble-size]\n",
    "    (let [tree-size-timelines\n",
    "      (for [tree-index (range ensemble-size)]\n",
    "        (->> result\n",
    "             :accuracy\n",
    "             :arf\n",
    "             :raw-results\n",
    "             (map :tree-depths)\n",
    "             (map #(get % tree-index))))\n",
    "      tree-size-series (zipmap (range) tree-size-timelines)]\n",
    "        (-> (plot-lines 100 tree-size-series :init-width 1200)\n",
    "            (.setShowLegend false)\n",
    "            (.setYLabel \"Tree Depth\")\n",
    "            (.setXLabel \"Records\")\n",
    "            (.display))))"
   ]
  },
  {
   "cell_type": "markdown",
   "metadata": {},
   "source": [
    "### RP"
   ]
  },
  {
   "cell_type": "code",
   "execution_count": null,
   "metadata": {},
   "outputs": [],
   "source": [
    "(tree-depth-plot (first results-rp-only) ensemble-size)"
   ]
  },
  {
   "cell_type": "markdown",
   "metadata": {},
   "source": [
    "### RPIN"
   ]
  },
  {
   "cell_type": "code",
   "execution_count": null,
   "metadata": {},
   "outputs": [],
   "source": [
    "(tree-depth-plot (apply max-key :independent-noise-sigma results-independent) ensemble-size)"
   ]
  },
  {
   "cell_type": "markdown",
   "metadata": {},
   "source": [
    "### RPCN"
   ]
  },
  {
   "cell_type": "code",
   "execution_count": null,
   "metadata": {},
   "outputs": [],
   "source": [
    "(tree-depth-plot (apply max-key :cumulative-noise-sigma results-cumulative) ensemble-size)"
   ]
  },
  {
   "cell_type": "code",
   "execution_count": null,
   "metadata": {},
   "outputs": [],
   "source": []
  }
 ],
 "metadata": {
  "kernelspec": {
   "display_name": "Clojure",
   "language": "clojure",
   "name": "clojure"
  },
  "language_info": {
   "codemirror_mode": "Clojure",
   "file_extension": ".clj",
   "mimetype": "text/x-clojure",
   "name": "Clojure",
   "nbconverter_exporter": "",
   "version": "1.9.0"
  },
  "toc": {
   "base_numbering": 1,
   "nav_menu": {},
   "number_sections": false,
   "sideBar": false,
   "skip_h1_title": false,
   "title_cell": "Table of Contents",
   "title_sidebar": "Contents",
   "toc_cell": false,
   "toc_position": {},
   "toc_section_display": false,
   "toc_window_display": false
  }
 },
 "nbformat": 4,
 "nbformat_minor": 2
}
