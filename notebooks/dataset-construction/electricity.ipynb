{
 "cells": [
  {
   "cell_type": "code",
   "execution_count": null,
   "metadata": {},
   "outputs": [],
   "source": [
    "import pandas as pd\n",
    "import os"
   ]
  },
  {
   "cell_type": "code",
   "execution_count": null,
   "metadata": {},
   "outputs": [],
   "source": [
    "dataset_dir = '../datasets/electricity'\n",
    "\n",
    "if not os.path.exists(dataset_dir):\n",
    "    os.makedirs(dataset_dir)"
   ]
  },
  {
   "cell_type": "code",
   "execution_count": null,
   "metadata": {},
   "outputs": [],
   "source": [
    "%%bash\n",
    "cd ../datasets/electricity\n",
    "wget https://sourceforge.net/projects/moa-datastream/files/Datasets/Classification/elecNormNew.arff.zip\n",
    "unzip elecNormNew.arff.zip"
   ]
  },
  {
   "cell_type": "code",
   "execution_count": null,
   "metadata": {},
   "outputs": [],
   "source": [
    "%%bash\n",
    "java=/opt/conda/envs/beakerx/bin/java\n",
    "moa=/home/beakerx/.m2/repository/nz/ac/waikato/cms/moa/moa/2017.06/moa-2017.06.jar\n",
    "weka=/home/beakerx/.m2/repository/nz/ac/waikato/cms/weka/weka-dev/3.7.12/weka-dev-3.7.12.jar\n",
    "pentahopm=/home/beakerx/.m2/repository/org/pentaho/pentaho-commons/pentaho-package-manager/1.0.8/pentaho-package-manager-1.0.8.jar\n",
    "output=/home/beakerx/ppdsp/notebooks/datasets/electricity\n",
    "$java -cp \"$pentahopm:$weka\" weka.core.converters.CSVSaver -i $output/elecNormNew.arff -o $output/elecNormNew.csv"
   ]
  },
  {
   "cell_type": "code",
   "execution_count": null,
   "metadata": {},
   "outputs": [],
   "source": []
  }
 ],
 "metadata": {
  "kernelspec": {
   "display_name": "Python 3",
   "language": "python",
   "name": "python3"
  },
  "language_info": {
   "codemirror_mode": {
    "name": "ipython",
    "version": 3
   },
   "file_extension": ".py",
   "mimetype": "text/x-python",
   "name": "python",
   "nbconvert_exporter": "python",
   "pygments_lexer": "ipython3",
   "version": "3.6.6"
  },
  "toc": {
   "base_numbering": 1,
   "nav_menu": {},
   "number_sections": false,
   "sideBar": false,
   "skip_h1_title": false,
   "title_cell": "Table of Contents",
   "title_sidebar": "Contents",
   "toc_cell": false,
   "toc_position": {},
   "toc_section_display": false,
   "toc_window_display": false
  }
 },
 "nbformat": 4,
 "nbformat_minor": 2
}
