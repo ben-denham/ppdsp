{
 "cells": [
  {
   "cell_type": "code",
   "execution_count": null,
   "metadata": {},
   "outputs": [],
   "source": [
    "%%bash\n",
    "rm -rf ../datasets/htru2\n",
    "mkdir -p ../datasets/htru2\n",
    "cd ../datasets/htru2\n",
    "wget https://archive.ics.uci.edu/ml/machine-learning-databases/00372/HTRU2.zip\n",
    "unzip HTRU2.zip\n",
    "echo 'att1,att2,att3,att4,att5,att6,att7,att8,class' > htru2.csv\n",
    "cat HTRU_2.csv | sed 's/\\r/\\n/g' >> htru2.csv\n",
    "mv htru2.csv HTRU_2.csv\n"
   ]
  },
  {
   "cell_type": "code",
   "execution_count": null,
   "metadata": {},
   "outputs": [],
   "source": []
  }
 ],
 "metadata": {
  "kernelspec": {
   "display_name": "Python 3",
   "language": "python",
   "name": "python3"
  },
  "language_info": {
   "codemirror_mode": {
    "name": "ipython",
    "version": 3
   },
   "file_extension": ".py",
   "mimetype": "text/x-python",
   "name": "python",
   "nbconvert_exporter": "python",
   "pygments_lexer": "ipython3",
   "version": "3.6.6"
  },
  "toc": {
   "base_numbering": 1,
   "nav_menu": {},
   "number_sections": false,
   "sideBar": false,
   "skip_h1_title": false,
   "title_cell": "Table of Contents",
   "title_sidebar": "Contents",
   "toc_cell": false,
   "toc_position": {},
   "toc_section_display": false,
   "toc_window_display": false
  }
 },
 "nbformat": 4,
 "nbformat_minor": 2
}
