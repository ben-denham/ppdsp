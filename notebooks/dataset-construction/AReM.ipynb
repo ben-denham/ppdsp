{
 "cells": [
  {
   "cell_type": "code",
   "execution_count": null,
   "metadata": {},
   "outputs": [],
   "source": [
    "%%bash\n",
    "mkdir -p ../datasets/arem\n",
    "cd ../datasets/arem\n",
    "rm AReM.zip\n",
    "wget https://archive.ics.uci.edu/ml/machine-learning-databases/00366/AReM.zip\n",
    "unzip AReM.zip"
   ]
  },
  {
   "cell_type": "code",
   "execution_count": null,
   "metadata": {},
   "outputs": [],
   "source": [
    "import os\n",
    "from random import Random\n",
    "import pandas as pd"
   ]
  },
  {
   "cell_type": "code",
   "execution_count": null,
   "metadata": {},
   "outputs": [],
   "source": [
    "dataset_dir = '../datasets/arem/'\n",
    "\n",
    "def get_activity_files(activity):\n",
    "    activity_dir = os.path.join(dataset_dir, activity)\n",
    "    activity_files = [ os.path.join(activity_dir, file) for file in sorted(os.listdir(activity_dir)) ]\n",
    "    return sorted(activity_files)\n",
    "\n",
    "target_activities = ['cycling', 'lying', 'sitting', 'standing', 'walking']\n",
    "\n",
    "all_activity_files = [ (activity, file) for activity in target_activities for file in get_activity_files(activity) ]\n",
    "\n",
    "shuffled_activity_files = all_activity_files.copy()\n",
    "Random(1).shuffle(shuffled_activity_files)"
   ]
  },
  {
   "cell_type": "code",
   "execution_count": null,
   "metadata": {},
   "outputs": [],
   "source": [
    "def load_df(activity, file):\n",
    "    df = pd.read_csv(file, names=['time', 'avg_rss12', 'var_rss12', 'avg_rss13', 'var_rss13', 'avg_rss23', 'var_rss23'], comment='#')\n",
    "    df = df.drop(['time'], axis=1)\n",
    "    df['activity'] = activity\n",
    "    return df\n",
    "\n",
    "case_dfs = [ load_df(activity, file) for activity, file in shuffled_activity_files ]"
   ]
  },
  {
   "cell_type": "code",
   "execution_count": null,
   "metadata": {},
   "outputs": [],
   "source": [
    "def random_interleave_dfs(dfs, seed=1):\n",
    "    rand = Random(seed)\n",
    "    if not dfs:\n",
    "        return None\n",
    "    all_df = pd.DataFrame(columns = dfs[0].columns)\n",
    "    dfs = [ df.copy() for df in dfs if not df.empty ]\n",
    "    # While there are still non-empty dataframes\n",
    "    while dfs:\n",
    "        next_df = rand.choice(dfs)\n",
    "        # Append first row from a random df\n",
    "        all_df = all_df.append(next_df.iloc[0], ignore_index=True)\n",
    "        # Remove that row from the random df\n",
    "        next_df.drop(next_df.index[0], inplace=True)\n",
    "        # Remove any empty dataframes\n",
    "        dfs = [ df for df in dfs if not df.empty ]\n",
    "    return all_df\n",
    "all_cases_interleaved_df = random_interleave_dfs(case_dfs)"
   ]
  },
  {
   "cell_type": "code",
   "execution_count": null,
   "metadata": {},
   "outputs": [],
   "source": [
    "all_cases_interleaved_df.to_csv(os.path.join(dataset_dir, 'arem_all_interleaved.csv'), index=False, na_rep='NaN')"
   ]
  },
  {
   "cell_type": "code",
   "execution_count": null,
   "metadata": {},
   "outputs": [],
   "source": []
  }
 ],
 "metadata": {
  "kernelspec": {
   "display_name": "Python 3",
   "language": "python",
   "name": "python3"
  },
  "language_info": {
   "codemirror_mode": {
    "name": "ipython",
    "version": 3
   },
   "file_extension": ".py",
   "mimetype": "text/x-python",
   "name": "python",
   "nbconvert_exporter": "python",
   "pygments_lexer": "ipython3",
   "version": "3.6.6"
  },
  "toc": {
   "base_numbering": 1,
   "nav_menu": {},
   "number_sections": false,
   "sideBar": false,
   "skip_h1_title": false,
   "title_cell": "Table of Contents",
   "title_sidebar": "Contents",
   "toc_cell": false,
   "toc_position": {},
   "toc_section_display": false,
   "toc_window_display": false
  }
 },
 "nbformat": 4,
 "nbformat_minor": 2
}
