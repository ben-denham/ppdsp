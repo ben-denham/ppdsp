{
 "cells": [
  {
   "cell_type": "code",
   "execution_count": null,
   "metadata": {},
   "outputs": [],
   "source": [
    "%%bash\n",
    "lein uberjar"
   ]
  },
  {
   "cell_type": "code",
   "execution_count": null,
   "metadata": {},
   "outputs": [],
   "source": [
    " %classpath add jar ../target/jvm/uberjar/ppdsp-0.1.0-SNAPSHOT-standalone.jar\n",
    "(clojure.lang.Compiler/loadFile \"jupyter_helpers.clj\")\n",
    "(require '[clojure.string :as string]\n",
    "         '[clojure.pprint :refer [pprint print-table]]\n",
    "         '[jupyter-helpers :refer [save-data load-data display-table\n",
    "                                   display-masking-error-plots run-masking-experiments\n",
    "                                   attack-strategy-comparison-plots\n",
    "                                   noise-accuracy-plot accuracy-privacy-tradeoff-comparison\n",
    "                                   display-html accuracy-privacy-tradeoff-legend\n",
    "                                   accuracy-privacy-tradeoff attack-strategy-comparison\n",
    "                                   round-known-record-counts]]\n",
    "         '[ppdsp.classifier.moa-classifier :refer [adaptive-random-forest]]\n",
    "         '[ppdsp.dataset.base :refer [dataset-feature-count dataset-record-count]]\n",
    "         '[ppdsp.dataset.csv-dataset :refer [read-csv-dataset]]\n",
    "         '[ppdsp.masking.evaluation :refer [flatten-masking-experiment-recoveries\n",
    "                                           unknown-record-relative-position\n",
    "                                           add-combined-result\n",
    "                                           get-cumulative-noise-sigma]]\n",
    "         '[ppdsp.utils :refer [map-vals mean]])"
   ]
  },
  {
   "cell_type": "markdown",
   "metadata": {},
   "source": [
    "## Experiment Configuration"
   ]
  },
  {
   "cell_type": "code",
   "execution_count": null,
   "metadata": {},
   "outputs": [],
   "source": [
    "(def dataset-label \"rbf-f\")\n",
    "(def dataset (read-csv-dataset \"datasets/moa-generators/rbf-f.csv\"\n",
    "                                99999999 ;; All records\n",
    "                                ;; Numeric features\n",
    "                                (into [] (map #(str \"att\" %) (range 1 11)))))"
   ]
  },
  {
   "cell_type": "code",
   "execution_count": null,
   "metadata": {},
   "outputs": [],
   "source": [
    "(def epsilons [0.1 0.2])\n",
    "\n",
    "(def feature-count (dataset-feature-count dataset))\n",
    "(def record-count (dataset-record-count dataset))\n",
    "\n",
    "(def independent-noise-sigmas [0.05 0.1 0.25])\n",
    "(def cumulative-noise-sigmas (map #(get-cumulative-noise-sigma % record-count) independent-noise-sigmas))\n",
    "\n",
    "(def base-configuration\n",
    "    {:dataset dataset\n",
    "     :projection-feature-counts [feature-count]\n",
    "     :projection-sigmas [1.0]\n",
    "     :translations [0]\n",
    "     :known-record-counts (distinct [(dec feature-count) (int (Math/ceil (/ feature-count 2))) 1])\n",
    "     :known-record-ranges [1]\n",
    "     :classifier-fns {:arf adaptive-random-forest}\n",
    "     :attack-count 500\n",
    "     :attempt-count 3\n",
    "     :threads-per-configuration 4\n",
    "     :threads-per-evaluation 1\n",
    "     :seed 1\n",
    "     :evaluations [:privacy :accuracy]})\n",
    "\n",
    "(def cumulative-noise-configuration\n",
    "    (merge base-configuration\n",
    "           {:output-file (str \"workspace/\" dataset-label \"/cumulative.edn\")\n",
    "            :independent-noise-sigmas [0.0]\n",
    "            :cumulative-noise-sigmas cumulative-noise-sigmas\n",
    "            :attack-strategies [:a-rp :a-rpcn :a-rpcn-1]}))\n",
    "\n",
    "(def independent-noise-configuration\n",
    "    (merge base-configuration\n",
    "           {:output-file (str \"workspace/\" dataset-label \"/independent.edn\")\n",
    "            :independent-noise-sigmas independent-noise-sigmas\n",
    "            :cumulative-noise-sigmas [0.0]\n",
    "            :attack-strategies [:a-rp :a-rpin :a-rpin-1]}))\n",
    "\n",
    "(def rp-only-configuration\n",
    "    (merge base-configuration\n",
    "           {:output-file (str \"workspace/\" dataset-label \"/rp-only.edn\")\n",
    "            :independent-noise-sigmas [0.0]\n",
    "            :cumulative-noise-sigmas [0.0]\n",
    "            :attack-strategies [:a-rp]}))"
   ]
  },
  {
   "cell_type": "markdown",
   "metadata": {},
   "source": [
    "## Run Experiments"
   ]
  },
  {
   "cell_type": "code",
   "execution_count": null,
   "metadata": {},
   "outputs": [],
   "source": [
    "(run-masking-experiments cumulative-noise-configuration)"
   ]
  },
  {
   "cell_type": "code",
   "execution_count": null,
   "metadata": {},
   "outputs": [],
   "source": [
    "(run-masking-experiments independent-noise-configuration)"
   ]
  },
  {
   "cell_type": "code",
   "execution_count": null,
   "metadata": {},
   "outputs": [],
   "source": [
    "(run-masking-experiments rp-only-configuration)"
   ]
  },
  {
   "cell_type": "markdown",
   "metadata": {},
   "source": [
    "## Load and Extend Experiment Results"
   ]
  },
  {
   "cell_type": "code",
   "execution_count": null,
   "metadata": {},
   "outputs": [],
   "source": [
    "(def output-cumulative (load-data (:output-file cumulative-noise-configuration)))\n",
    "(def original-accuracy-cumulative (-> output-cumulative :original :accuracy))\n",
    "(def results-cumulative (-> (filter #(contains? (set cumulative-noise-sigmas) (:cumulative-noise-sigma %))\n",
    "                                    (:results output-cumulative))\n",
    "                            (add-combined-result :score [:a-rp :a-rpcn])\n",
    "                            (add-combined-result :score [:a-rp :a-rpcn-1])))\n",
    "(def flat-results-cumulative (->> results-cumulative\n",
    "                                  flatten-masking-experiment-recoveries\n",
    "                                  (map #(assoc % :unknown-record-relative-position (unknown-record-relative-position %)))))"
   ]
  },
  {
   "cell_type": "code",
   "execution_count": null,
   "metadata": {},
   "outputs": [],
   "source": [
    "(def output-independent (load-data (:output-file independent-noise-configuration)))\n",
    "(def original-accuracy-independent (-> output-independent :original :accuracy))\n",
    "(def results-independent (-> (filter #(contains? (set independent-noise-sigmas) (:independent-noise-sigma %))\n",
    "                                     (:results output-independent))\n",
    "                             (add-combined-result :score [:a-rp :a-rpin])\n",
    "                             (add-combined-result :score [:a-rp :a-rpin-1])))\n",
    "(def flat-results-independent (->> results-independent\n",
    "                                   flatten-masking-experiment-recoveries\n",
    "                                   (map #(assoc % :unknown-record-relative-position (unknown-record-relative-position %)))))"
   ]
  },
  {
   "cell_type": "code",
   "execution_count": null,
   "metadata": {},
   "outputs": [],
   "source": [
    "(def output-rp-only (load-data (:output-file rp-only-configuration)))\n",
    "(def original-accuracy-rp-only (-> output-rp-only :original :accuracy))\n",
    "(def results-rp-only (-> (:results output-rp-only)))\n",
    "(def flat-results-rp-only (->> results-rp-only\n",
    "                               flatten-masking-experiment-recoveries\n",
    "                               (map #(assoc % :unknown-record-relative-position (unknown-record-relative-position %)))))"
   ]
  },
  {
   "cell_type": "markdown",
   "metadata": {},
   "source": [
    "## Comparison of Attack Strategies"
   ]
  },
  {
   "cell_type": "code",
   "execution_count": null,
   "metadata": {
    "scrolled": false
   },
   "outputs": [],
   "source": [
    "(doseq [epsilon epsilons]\n",
    "    (display-html (str \"<h3>Epsilon = \" epsilon \"</h3>\"))\n",
    "    (.display (attack-strategy-comparison-plots flat-results-cumulative :all epsilon\n",
    "                                                :plot-width 400\n",
    "                                                :plot-height 400\n",
    "                                                :show-legend? true))\n",
    "    (display-html (str \"<h4>Breakdown by noise amount</h4>\"))\n",
    "    (.display (attack-strategy-comparison-plots flat-results-cumulative :cumulative-noise-sigma epsilon\n",
    "                                                :plot-width 400\n",
    "                                                :plot-height 400\n",
    "                                                :show-legend? false)))"
   ]
  },
  {
   "cell_type": "code",
   "execution_count": null,
   "metadata": {
    "scrolled": false
   },
   "outputs": [],
   "source": [
    "(doseq [epsilon epsilons]\n",
    "    (display-html (str \"<h3>Epsilon = \" epsilon \"</h3>\"))\n",
    "    (.display (attack-strategy-comparison-plots flat-results-independent :all epsilon\n",
    "                                                :plot-width 400\n",
    "                                                :plot-height 400\n",
    "                                                :show-legend? true))\n",
    "    (display-html (str \"<h4>Breakdown by noise amount</h4>\"))\n",
    "    (.display (attack-strategy-comparison-plots flat-results-independent :independent-noise-sigma epsilon\n",
    "                                                :plot-width 400\n",
    "                                                :plot-height 400\n",
    "                                                :show-legend? false)))"
   ]
  },
  {
   "cell_type": "code",
   "execution_count": null,
   "metadata": {},
   "outputs": [],
   "source": [
    "(let [comparison (attack-strategy-comparison flat-results-cumulative epsilons\n",
    "                                  :known-record-count (apply max (:known-record-counts base-configuration)))]\n",
    "    (save-data (str \"workspace/\" dataset-label \"/cumulative-attack-strategies-comparison.edn\") comparison)\n",
    "    (display-table comparison))"
   ]
  },
  {
   "cell_type": "code",
   "execution_count": null,
   "metadata": {},
   "outputs": [],
   "source": [
    "(let [comparison (attack-strategy-comparison flat-results-independent epsilons\n",
    "                                  :known-record-count (apply max (:known-record-counts base-configuration)))]\n",
    "    (save-data (str \"workspace/\" dataset-label \"/independent-attack-strategies-comparison.edn\") comparison)\n",
    "    (display-table comparison))"
   ]
  },
  {
   "cell_type": "code",
   "execution_count": null,
   "metadata": {},
   "outputs": [],
   "source": [
    "(def best-cumulative-attack-strategy :a-rpcn-1)\n",
    "(def best-independent-attack-strategy :a-rpin-1)"
   ]
  },
  {
   "cell_type": "markdown",
   "metadata": {},
   "source": [
    "## Cumulative vs. Independent Noise"
   ]
  },
  {
   "cell_type": "code",
   "execution_count": null,
   "metadata": {},
   "outputs": [],
   "source": [
    "(display-html (accuracy-privacy-tradeoff-legend independent-noise-sigmas cumulative-noise-sigmas))\n",
    "nil"
   ]
  },
  {
   "cell_type": "code",
   "execution_count": null,
   "metadata": {
    "scrolled": false
   },
   "outputs": [],
   "source": [
    "(doseq [epsilon epsilons]\n",
    "    (.display (accuracy-privacy-tradeoff-comparison results-cumulative results-independent results-rp-only\n",
    "                                                    :arf best-cumulative-attack-strategy best-independent-attack-strategy epsilon\n",
    "                                                    :plot-width 400\n",
    "                                                    :plot-height 400)))"
   ]
  },
  {
   "cell_type": "markdown",
   "metadata": {},
   "source": [
    "### Comparison of Square Distance From Origin\n",
    "\n",
    "Performance is the sum of the squares of: (1) Prob. of e-privacy breach and (2) classification error."
   ]
  },
  {
   "cell_type": "code",
   "execution_count": null,
   "metadata": {},
   "outputs": [],
   "source": [
    "(let [comparison (accuracy-privacy-tradeoff results-cumulative results-independent results-rp-only\n",
    "                               :arf best-cumulative-attack-strategy best-independent-attack-strategy epsilons\n",
    "                               :square-distance? true\n",
    "                               :row-per-noise-level? true\n",
    "                               :known-record-count (apply max (:known-record-counts base-configuration)))]\n",
    "    (save-data (str \"workspace/\" dataset-label \"/mask-comparison.edn\") comparison)\n",
    "    (display-table comparison))"
   ]
  },
  {
   "cell_type": "markdown",
   "metadata": {},
   "source": [
    "## Effect of Cumulative Noise on Accuracy over Time"
   ]
  },
  {
   "cell_type": "code",
   "execution_count": null,
   "metadata": {},
   "outputs": [],
   "source": [
    "(noise-accuracy-plot results-cumulative results-independent results-rp-only :arf\n",
    "                     :init-width 800\n",
    "                     :init-height 400)"
   ]
  },
  {
   "cell_type": "markdown",
   "metadata": {},
   "source": [
    "## Effect of Cumulative Noise on Privacy over Time"
   ]
  },
  {
   "cell_type": "code",
   "execution_count": null,
   "metadata": {},
   "outputs": [],
   "source": [
    "(display-masking-error-plots (->> flat-results-cumulative\n",
    "                                  (filter #(= best-cumulative-attack-strategy (:strategy %)))\n",
    "                                  (filter #(= (apply max cumulative-noise-sigmas) (:cumulative-noise-sigma %)))\n",
    "                                  (filter #(= (apply max (:known-record-counts base-configuration)) (:known-record-count %))))\n",
    "                             :cumulative-noise-sigma :known-record-count :strategy\n",
    "                             :plot-width 500\n",
    "                             :plot-height 500)"
   ]
  },
  {
   "cell_type": "code",
   "execution_count": null,
   "metadata": {},
   "outputs": [],
   "source": []
  }
 ],
 "metadata": {
  "kernelspec": {
   "display_name": "Clojure",
   "language": "clojure",
   "name": "clojure"
  },
  "language_info": {
   "codemirror_mode": "Clojure",
   "file_extension": ".clj",
   "mimetype": "text/x-clojure",
   "name": "Clojure",
   "nbconverter_exporter": "",
   "version": "1.9.0"
  },
  "toc": {
   "base_numbering": 1,
   "nav_menu": {},
   "number_sections": false,
   "sideBar": false,
   "skip_h1_title": false,
   "title_cell": "Table of Contents",
   "title_sidebar": "Contents",
   "toc_cell": false,
   "toc_position": {},
   "toc_section_display": false,
   "toc_window_display": false
  }
 },
 "nbformat": 4,
 "nbformat_minor": 2
}
