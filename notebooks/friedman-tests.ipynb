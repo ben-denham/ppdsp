{
 "cells": [
  {
   "cell_type": "code",
   "execution_count": null,
   "metadata": {},
   "outputs": [],
   "source": [
    "!pip install edn_format"
   ]
  },
  {
   "cell_type": "code",
   "execution_count": null,
   "metadata": {},
   "outputs": [],
   "source": [
    "from collections import OrderedDict\n",
    "import matplotlib as mpl\n",
    "import matplotlib.pyplot as plt\n",
    "import numpy as np\n",
    "import Orange\n",
    "import pandas as pd\n",
    "from scipy.stats import friedmanchisquare\n",
    "import scikit_posthocs as sp\n",
    "import edn_format\n",
    "import os\n",
    "from itertools import chain, groupby\n",
    "from operator import itemgetter\n",
    "from pprint import pprint\n",
    "\n",
    "mpl.rcParams['figure.dpi'] = 300"
   ]
  },
  {
   "cell_type": "markdown",
   "metadata": {},
   "source": [
    "## Algorithms Comparison"
   ]
  },
  {
   "cell_type": "code",
   "execution_count": null,
   "metadata": {},
   "outputs": [],
   "source": [
    "datasets = ['arem', 'breast-cancer', 'census', 'electricity', 'htru2', 'nyc-taxi', 'power-usage', 'pregnancies', 'prosper-loans', 'rbf-f', 'sea-a', 'wfr']\n",
    "epsilons = [0.1, 0.2]\n",
    "\n",
    "def load_edn_rows(filepath):\n",
    "    with open(filepath, 'r') as f:\n",
    "        text = f.read()\n",
    "        return edn_format.loads(text)\n",
    "\n",
    "def load_all_rows(comparison_filename):\n",
    "    return tuple(chain(*[ load_edn_rows(os.path.join('workspace', dataset, comparison_filename)) for dataset in datasets ]))\n",
    "\n",
    "def get_first_of(d, attrs):\n",
    "    for attr in attrs:\n",
    "        if attr in d:\n",
    "            return d[attr]\n",
    "    return None\n",
    "\n",
    "def rows_to_dict(rows, key_attr, value_attrs):\n",
    "    key = itemgetter(key_attr)\n",
    "    groups = groupby(sorted(rows, key=key), key)\n",
    "    return {k: [ get_first_of(row, value_attrs) for row in rows ] for k, rows in groups}\n",
    "\n",
    "mask_rows = load_all_rows('mask-comparison.edn')\n",
    "mask_comparison = {epsilon: rows_to_dict(mask_rows, 'Mask', ['Performance; e={}'.format(epsilon)]) for epsilon in epsilons}\n",
    "mask_names = {\n",
    "    'RP Only': 'RP',\n",
    "    'Cumulative Noise - Level 1': 'RPCN-1',\n",
    "    'Cumulative Noise - Level 2': 'RPCN-2',\n",
    "    'Cumulative Noise - Level 3': 'RPCN-3',\n",
    "    'Independent Noise - Level 1': 'RPIN-1',\n",
    "    'Independent Noise - Level 2': 'RPIN-2',\n",
    "    'Independent Noise - Level 3': 'RPIN-3',\n",
    "    **{'Sensitive-Drift (window = {}) - SD = {}'.format(w, sd): 'SD-{}-{}'.format(w, sd) for w in [10, 30, 50, 100] for sd in [0.03, 0.05, 0.1, 0.5, 1.0]}\n",
    "}\n",
    "for eps in epsilons:\n",
    "    for old_name, new_name in mask_names.items():\n",
    "        if old_name not in mask_comparison[eps]:\n",
    "            continue\n",
    "        mask_comparison[eps][new_name] = mask_comparison[eps].pop(old_name)\n",
    "    mask_comparison[eps] = { k: v for k, v in mask_comparison[eps].items() if k in mask_names.values() }\n",
    "\n",
    "print('Datasets: ', len(datasets))\n",
    "print(\"Mask Comparison\")\n",
    "pprint(mask_comparison)"
   ]
  },
  {
   "cell_type": "code",
   "execution_count": null,
   "metadata": {},
   "outputs": [],
   "source": [
    "def friedman_test(comparison, *, reverse=False):\n",
    "    df = pd.DataFrame.from_dict(comparison, orient='index')\n",
    "    # Friedman test, p-value\n",
    "    print(friedmanchisquare(*comparison.values()))\n",
    "    # Nemenyi posthoc\n",
    "    #nemenyi = sp.posthoc_nemenyi_friedman(df.transpose().values.tolist()).style.applymap(\n",
    "    #    lambda x: 'color: {}'.format('red' if x < 0.05 else 'black'))\n",
    "    #display(nemenyi)\n",
    "    # Critical Distance Chart\n",
    "    ranks = df.rank(ascending=False)\n",
    "    avg_ranks_series = ranks.mean(axis=1)\n",
    "    avg_ranks = avg_ranks_series.tolist()\n",
    "    names = avg_ranks_series.index.tolist()\n",
    "    dataset_count = len(list(comparison.values())[0])\n",
    "    cd = Orange.evaluation.compute_CD(avg_ranks, dataset_count, alpha='0.05')\n",
    "    print('Critical value:', cd)\n",
    "    Orange.evaluation.graph_ranks(avg_ranks, names, cd=cd, width=6, textspace=1.5, reverse=reverse)\n",
    "    plt.show()\n",
    "    #plt.savefig('cd.svg')"
   ]
  },
  {
   "cell_type": "markdown",
   "metadata": {},
   "source": [
    "## Mask Comparison - Epsilon = 0.1"
   ]
  },
  {
   "cell_type": "code",
   "execution_count": null,
   "metadata": {},
   "outputs": [],
   "source": [
    "friedman_test(mask_comparison[0.1])"
   ]
  },
  {
   "cell_type": "markdown",
   "metadata": {},
   "source": [
    "## Mask Comparison - Epsilon = 0.2"
   ]
  },
  {
   "cell_type": "code",
   "execution_count": null,
   "metadata": {},
   "outputs": [],
   "source": [
    "friedman_test(mask_comparison[0.2])"
   ]
  },
  {
   "cell_type": "code",
   "execution_count": null,
   "metadata": {},
   "outputs": [],
   "source": []
  }
 ],
 "metadata": {
  "kernelspec": {
   "display_name": "Python 3",
   "language": "python",
   "name": "python3"
  },
  "language_info": {
   "codemirror_mode": {
    "name": "ipython",
    "version": 3
   },
   "file_extension": ".py",
   "mimetype": "text/x-python",
   "name": "python",
   "nbconvert_exporter": "python",
   "pygments_lexer": "ipython3",
   "version": "3.6.6"
  },
  "toc": {
   "base_numbering": 1,
   "nav_menu": {},
   "number_sections": false,
   "sideBar": false,
   "skip_h1_title": false,
   "title_cell": "Table of Contents",
   "title_sidebar": "Contents",
   "toc_cell": false,
   "toc_position": {},
   "toc_section_display": false,
   "toc_window_display": false
  }
 },
 "nbformat": 4,
 "nbformat_minor": 2
}
