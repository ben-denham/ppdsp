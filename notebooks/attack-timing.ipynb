{
 "cells": [
  {
   "cell_type": "code",
   "execution_count": null,
   "metadata": {},
   "outputs": [],
   "source": [
    "%%bash\n",
    "lein uberjar"
   ]
  },
  {
   "cell_type": "code",
   "execution_count": null,
   "metadata": {},
   "outputs": [],
   "source": [
    " %classpath add jar ../target/jvm/uberjar/ppdsp-0.1.0-SNAPSHOT-standalone.jar\n",
    "(clojure.lang.Compiler/loadFile \"jupyter_helpers.clj\")\n",
    "(require '[clojure.string :as string]\n",
    "         '[clojure.pprint :refer [pprint print-table]]\n",
    "         '[jupyter-helpers :refer [save-data load-data run-masking-experiments\n",
    "                                   line-plot grid-plot-results]]\n",
    "         '[ppdsp.classifier.moa-classifier :refer [adaptive-random-forest]]\n",
    "         '[ppdsp.dataset.base :refer [dataset-feature-count dataset-record-count]]\n",
    "         '[ppdsp.dataset.csv-dataset :refer [read-csv-dataset]]\n",
    "         '[ppdsp.masking.evaluation :refer [flatten-masking-experiment-recoveries\n",
    "                                           unknown-record-relative-position map-attack-results\n",
    "                                           get-cumulative-noise-sigma]]\n",
    "         '[ppdsp.utils :refer [map-vals mean]]\n",
    "         '[ppdsp.utils.timing :refer [nano-to-seconds]])\n",
    "(import '[java.awt Color])"
   ]
  },
  {
   "cell_type": "markdown",
   "metadata": {},
   "source": [
    "## Experiment Configuration"
   ]
  },
  {
   "cell_type": "code",
   "execution_count": null,
   "metadata": {},
   "outputs": [],
   "source": [
    "(def dataset-label \"timing-nyc-taxi\")\n",
    "(def dataset (read-csv-dataset \"datasets/nyc-taxi/nyc-50k.csv\"\n",
    "                                99999999 ;; All records\n",
    "                                ;; Numeric features\n",
    "                                [\"pickup_longitude\" \"pickup_latitude\" \"dropoff_longitude\" \"dropoff_latitude\" \"pickup_day\" \"pickup_hour\" \"dist\"]))"
   ]
  },
  {
   "cell_type": "code",
   "execution_count": null,
   "metadata": {},
   "outputs": [],
   "source": [
    "(def feature-count (dataset-feature-count dataset))\n",
    "(def record-count (dataset-record-count dataset))\n",
    "\n",
    "(def independent-noise-sigmas [0.25])\n",
    "(def cumulative-noise-sigmas (map #(get-cumulative-noise-sigma % record-count) independent-noise-sigmas))\n",
    "\n",
    "(def base-configuration\n",
    "    {:dataset dataset\n",
    "     :projection-feature-counts [feature-count]\n",
    "     :projection-sigmas [1.0]\n",
    "     :translations [0]\n",
    "     :known-record-counts (distinct [(dec feature-count) (int (Math/ceil (/ feature-count 2))) 1])\n",
    "     :known-record-ranges [1]\n",
    "     :classifier-fns {:arf adaptive-random-forest}\n",
    "     :attack-count 1\n",
    "     :attempt-count 1\n",
    "     :threads-per-configuration 1\n",
    "     :threads-per-evaluation 1\n",
    "     :seed 1\n",
    "     :evaluations [:privacy]})\n",
    "\n",
    "(def cumulative-noise-configuration\n",
    "    (merge base-configuration\n",
    "           {:output-file (str \"workspace/\" dataset-label \"/cumulative.edn\")\n",
    "            :independent-noise-sigmas [0.0]\n",
    "            :cumulative-noise-sigmas cumulative-noise-sigmas\n",
    "            :attack-strategies [:a-rp :a-rpcn :a-rpcn-1]}))\n",
    "\n",
    "(def independent-noise-configuration\n",
    "    (merge base-configuration\n",
    "           {:output-file (str \"workspace/\" dataset-label \"/independent.edn\")\n",
    "            :independent-noise-sigmas independent-noise-sigmas\n",
    "            :cumulative-noise-sigmas [0.0]\n",
    "            :attack-strategies [:a-rp :a-rpin :a-rpin-1]}))\n",
    "\n",
    "(def rp-only-configuration\n",
    "    (merge base-configuration\n",
    "           {:output-file (str \"workspace/\" dataset-label \"/rp-only.edn\")\n",
    "            :independent-noise-sigmas [0.0]\n",
    "            :cumulative-noise-sigmas [0.0]\n",
    "            :attack-strategies [:a-rp]}))"
   ]
  },
  {
   "cell_type": "markdown",
   "metadata": {},
   "source": [
    "## Run Experiments"
   ]
  },
  {
   "cell_type": "markdown",
   "metadata": {},
   "source": [
    "Run the set of experiments twice to allow for JVM warmup (the second set of results will overwrite the first)."
   ]
  },
  {
   "cell_type": "code",
   "execution_count": null,
   "metadata": {},
   "outputs": [],
   "source": [
    "(run-masking-experiments cumulative-noise-configuration)\n",
    "(run-masking-experiments independent-noise-configuration)\n",
    "(run-masking-experiments rp-only-configuration)\n",
    ";; Second run\n",
    "(run-masking-experiments cumulative-noise-configuration)\n",
    "(run-masking-experiments independent-noise-configuration)\n",
    "(run-masking-experiments rp-only-configuration)"
   ]
  },
  {
   "cell_type": "markdown",
   "metadata": {},
   "source": [
    "## Load and Extend Experiment Results"
   ]
  },
  {
   "cell_type": "code",
   "execution_count": null,
   "metadata": {},
   "outputs": [],
   "source": [
    "(def output-cumulative (load-data (:output-file cumulative-noise-configuration)))\n",
    "(def results-cumulative (-> (filter #(contains? (set cumulative-noise-sigmas) (:cumulative-noise-sigma %))\n",
    "                                    (:results output-cumulative))))\n",
    "(def flat-results-cumulative (->> results-cumulative\n",
    "                                  flatten-masking-experiment-recoveries\n",
    "                                  (map #(assoc % :unknown-record-relative-position (unknown-record-relative-position %)))))"
   ]
  },
  {
   "cell_type": "code",
   "execution_count": null,
   "metadata": {},
   "outputs": [],
   "source": [
    "(def output-independent (load-data (:output-file independent-noise-configuration)))\n",
    "(def results-independent (-> (filter #(contains? (set independent-noise-sigmas) (:independent-noise-sigma %))\n",
    "                                     (:results output-independent))))\n",
    "(def flat-results-independent (->> results-independent\n",
    "                                   flatten-masking-experiment-recoveries\n",
    "                                   (map #(assoc % :unknown-record-relative-position (unknown-record-relative-position %)))))"
   ]
  },
  {
   "cell_type": "code",
   "execution_count": null,
   "metadata": {},
   "outputs": [],
   "source": [
    "(def output-rp-only (load-data (:output-file rp-only-configuration)))\n",
    "(def results-rp-only (-> (:results output-rp-only)))\n",
    "(def flat-results-rp-only (->> results-rp-only\n",
    "                               flatten-masking-experiment-recoveries\n",
    "                               (map #(assoc % :unknown-record-relative-position (unknown-record-relative-position %)))))"
   ]
  },
  {
   "cell_type": "code",
   "execution_count": null,
   "metadata": {},
   "outputs": [],
   "source": [
    "(def all-flat-results (concat (map #(assoc % :mask :cumulative-noise) flat-results-cumulative)\n",
    "                              (map #(assoc % :mask :independent-noise) flat-results-independent)\n",
    "                              (map #(assoc % :mask :rp-only) flat-results-rp-only)))"
   ]
  },
  {
   "cell_type": "markdown",
   "metadata": {},
   "source": [
    "## Attack Timing Comparison"
   ]
  },
  {
   "cell_type": "code",
   "execution_count": null,
   "metadata": {},
   "outputs": [],
   "source": [
    "(grid-plot-results all-flat-results\n",
    "                   :all :mask\n",
    "                   (fn [[_ mask] plot-results]\n",
    "                     (let [series (->> plot-results\n",
    "                                       (group-by :strategy)\n",
    "                                       (map-vals\n",
    "                                        (fn [strategy-results]\n",
    "                                          (->> strategy-results\n",
    "                                               (group-by :known-record-count)\n",
    "                                               (map-vals #(mean (map :mean-attempt-cpu-nanoseconds %)))\n",
    "                                               (map-vals #(Math/log %))\n",
    "                                               (sort-by first))))\n",
    "                                       (sort-by first)\n",
    "                                       (reverse))]\n",
    "                         (doto (line-plot series :colours [(Color/decode \"#7570b3\")  (Color/decode \"#d95f02\") (Color/decode \"#1b9e77\")])\n",
    "                           (.setShowLegend false)\n",
    "                           (.setTitle (str mask))\n",
    "                           (.setXLabel \"Known records\")\n",
    "                           (.setYLabel (str \"Mean CPU time (log-nanoseconds)\")))))\n",
    "                   :plot-width 400\n",
    "                   :plot-height 400)"
   ]
  },
  {
   "cell_type": "code",
   "execution_count": null,
   "metadata": {},
   "outputs": [],
   "source": []
  }
 ],
 "metadata": {
  "kernelspec": {
   "display_name": "Clojure",
   "language": "clojure",
   "name": "clojure"
  },
  "language_info": {
   "codemirror_mode": "Clojure",
   "file_extension": ".clj",
   "mimetype": "text/x-clojure",
   "name": "Clojure",
   "nbconverter_exporter": "",
   "version": "1.9.0"
  },
  "toc": {
   "base_numbering": 1,
   "nav_menu": {},
   "number_sections": false,
   "sideBar": false,
   "skip_h1_title": false,
   "title_cell": "Table of Contents",
   "title_sidebar": "Contents",
   "toc_cell": false,
   "toc_position": {},
   "toc_section_display": false,
   "toc_window_display": false
  }
 },
 "nbformat": 4,
 "nbformat_minor": 2
}
